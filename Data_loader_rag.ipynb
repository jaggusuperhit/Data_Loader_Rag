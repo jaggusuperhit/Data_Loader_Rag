{
 "cells": [
  {
   "cell_type": "code",
   "execution_count": 1,
   "metadata": {},
   "outputs": [],
   "source": [
    "import os\n",
    "from dotenv import load_dotenv, find_dotenv\n",
    "_ = load_dotenv(find_dotenv())\n",
    "# Use OpenRouter API key\n",
    "openrouter_api_key = os.environ[\"OPENROUTER_API_KEY\"]  # Replace with your OpenRouter API key"
   ]
  },
  {
   "cell_type": "code",
   "execution_count": 2,
   "metadata": {},
   "outputs": [
    {
     "name": "stdout",
     "output_type": "stream",
     "text": [
      "Requirement already satisfied: langchain-openai in d:\\llm_ops\\data_loader_rag\\myenv\\lib\\site-packages (0.3.17)\n",
      "Requirement already satisfied: langchain-core<1.0.0,>=0.3.59 in d:\\llm_ops\\data_loader_rag\\myenv\\lib\\site-packages (from langchain-openai) (0.3.60)\n",
      "Requirement already satisfied: openai<2.0.0,>=1.68.2 in d:\\llm_ops\\data_loader_rag\\myenv\\lib\\site-packages (from langchain-openai) (1.79.0)\n",
      "Requirement already satisfied: tiktoken<1,>=0.7 in d:\\llm_ops\\data_loader_rag\\myenv\\lib\\site-packages (from langchain-openai) (0.9.0)\n",
      "Requirement already satisfied: langsmith<0.4,>=0.1.126 in d:\\llm_ops\\data_loader_rag\\myenv\\lib\\site-packages (from langchain-core<1.0.0,>=0.3.59->langchain-openai) (0.3.42)\n",
      "Requirement already satisfied: tenacity!=8.4.0,<10.0.0,>=8.1.0 in d:\\llm_ops\\data_loader_rag\\myenv\\lib\\site-packages (from langchain-core<1.0.0,>=0.3.59->langchain-openai) (9.1.2)\n",
      "Requirement already satisfied: jsonpatch<2.0,>=1.33 in d:\\llm_ops\\data_loader_rag\\myenv\\lib\\site-packages (from langchain-core<1.0.0,>=0.3.59->langchain-openai) (1.33)\n",
      "Requirement already satisfied: PyYAML>=5.3 in d:\\llm_ops\\data_loader_rag\\myenv\\lib\\site-packages (from langchain-core<1.0.0,>=0.3.59->langchain-openai) (6.0.2)\n",
      "Requirement already satisfied: packaging<25,>=23.2 in d:\\llm_ops\\data_loader_rag\\myenv\\lib\\site-packages (from langchain-core<1.0.0,>=0.3.59->langchain-openai) (24.2)\n",
      "Requirement already satisfied: typing-extensions>=4.7 in d:\\llm_ops\\data_loader_rag\\myenv\\lib\\site-packages (from langchain-core<1.0.0,>=0.3.59->langchain-openai) (4.13.2)\n",
      "Requirement already satisfied: pydantic>=2.7.4 in d:\\llm_ops\\data_loader_rag\\myenv\\lib\\site-packages (from langchain-core<1.0.0,>=0.3.59->langchain-openai) (2.11.4)\n",
      "Requirement already satisfied: jsonpointer>=1.9 in d:\\llm_ops\\data_loader_rag\\myenv\\lib\\site-packages (from jsonpatch<2.0,>=1.33->langchain-core<1.0.0,>=0.3.59->langchain-openai) (3.0.0)\n",
      "Requirement already satisfied: httpx<1,>=0.23.0 in d:\\llm_ops\\data_loader_rag\\myenv\\lib\\site-packages (from langsmith<0.4,>=0.1.126->langchain-core<1.0.0,>=0.3.59->langchain-openai) (0.28.1)\n",
      "Requirement already satisfied: orjson<4.0.0,>=3.9.14 in d:\\llm_ops\\data_loader_rag\\myenv\\lib\\site-packages (from langsmith<0.4,>=0.1.126->langchain-core<1.0.0,>=0.3.59->langchain-openai) (3.10.18)\n",
      "Requirement already satisfied: requests<3,>=2 in d:\\llm_ops\\data_loader_rag\\myenv\\lib\\site-packages (from langsmith<0.4,>=0.1.126->langchain-core<1.0.0,>=0.3.59->langchain-openai) (2.32.3)\n",
      "Requirement already satisfied: requests-toolbelt<2.0.0,>=1.0.0 in d:\\llm_ops\\data_loader_rag\\myenv\\lib\\site-packages (from langsmith<0.4,>=0.1.126->langchain-core<1.0.0,>=0.3.59->langchain-openai) (1.0.0)\n",
      "Requirement already satisfied: zstandard<0.24.0,>=0.23.0 in d:\\llm_ops\\data_loader_rag\\myenv\\lib\\site-packages (from langsmith<0.4,>=0.1.126->langchain-core<1.0.0,>=0.3.59->langchain-openai) (0.23.0)\n",
      "Requirement already satisfied: anyio in d:\\llm_ops\\data_loader_rag\\myenv\\lib\\site-packages (from httpx<1,>=0.23.0->langsmith<0.4,>=0.1.126->langchain-core<1.0.0,>=0.3.59->langchain-openai) (4.9.0)\n",
      "Requirement already satisfied: certifi in d:\\llm_ops\\data_loader_rag\\myenv\\lib\\site-packages (from httpx<1,>=0.23.0->langsmith<0.4,>=0.1.126->langchain-core<1.0.0,>=0.3.59->langchain-openai) (2025.4.26)\n",
      "Requirement already satisfied: httpcore==1.* in d:\\llm_ops\\data_loader_rag\\myenv\\lib\\site-packages (from httpx<1,>=0.23.0->langsmith<0.4,>=0.1.126->langchain-core<1.0.0,>=0.3.59->langchain-openai) (1.0.9)\n",
      "Requirement already satisfied: idna in d:\\llm_ops\\data_loader_rag\\myenv\\lib\\site-packages (from httpx<1,>=0.23.0->langsmith<0.4,>=0.1.126->langchain-core<1.0.0,>=0.3.59->langchain-openai) (3.10)\n",
      "Requirement already satisfied: h11>=0.16 in d:\\llm_ops\\data_loader_rag\\myenv\\lib\\site-packages (from httpcore==1.*->httpx<1,>=0.23.0->langsmith<0.4,>=0.1.126->langchain-core<1.0.0,>=0.3.59->langchain-openai) (0.16.0)\n",
      "Requirement already satisfied: distro<2,>=1.7.0 in d:\\llm_ops\\data_loader_rag\\myenv\\lib\\site-packages (from openai<2.0.0,>=1.68.2->langchain-openai) (1.9.0)\n",
      "Requirement already satisfied: jiter<1,>=0.4.0 in d:\\llm_ops\\data_loader_rag\\myenv\\lib\\site-packages (from openai<2.0.0,>=1.68.2->langchain-openai) (0.9.0)\n",
      "Requirement already satisfied: sniffio in d:\\llm_ops\\data_loader_rag\\myenv\\lib\\site-packages (from openai<2.0.0,>=1.68.2->langchain-openai) (1.3.1)\n",
      "Requirement already satisfied: tqdm>4 in d:\\llm_ops\\data_loader_rag\\myenv\\lib\\site-packages (from openai<2.0.0,>=1.68.2->langchain-openai) (4.67.1)\n",
      "Requirement already satisfied: exceptiongroup>=1.0.2 in d:\\llm_ops\\data_loader_rag\\myenv\\lib\\site-packages (from anyio->httpx<1,>=0.23.0->langsmith<0.4,>=0.1.126->langchain-core<1.0.0,>=0.3.59->langchain-openai) (1.3.0)\n",
      "Requirement already satisfied: annotated-types>=0.6.0 in d:\\llm_ops\\data_loader_rag\\myenv\\lib\\site-packages (from pydantic>=2.7.4->langchain-core<1.0.0,>=0.3.59->langchain-openai) (0.7.0)\n",
      "Requirement already satisfied: pydantic-core==2.33.2 in d:\\llm_ops\\data_loader_rag\\myenv\\lib\\site-packages (from pydantic>=2.7.4->langchain-core<1.0.0,>=0.3.59->langchain-openai) (2.33.2)\n",
      "Requirement already satisfied: typing-inspection>=0.4.0 in d:\\llm_ops\\data_loader_rag\\myenv\\lib\\site-packages (from pydantic>=2.7.4->langchain-core<1.0.0,>=0.3.59->langchain-openai) (0.4.0)\n",
      "Requirement already satisfied: charset-normalizer<4,>=2 in d:\\llm_ops\\data_loader_rag\\myenv\\lib\\site-packages (from requests<3,>=2->langsmith<0.4,>=0.1.126->langchain-core<1.0.0,>=0.3.59->langchain-openai) (3.4.2)\n",
      "Requirement already satisfied: urllib3<3,>=1.21.1 in d:\\llm_ops\\data_loader_rag\\myenv\\lib\\site-packages (from requests<3,>=2->langsmith<0.4,>=0.1.126->langchain-core<1.0.0,>=0.3.59->langchain-openai) (2.4.0)\n",
      "Requirement already satisfied: regex>=2022.1.18 in d:\\llm_ops\\data_loader_rag\\myenv\\lib\\site-packages (from tiktoken<1,>=0.7->langchain-openai) (2024.11.6)\n",
      "Requirement already satisfied: colorama in d:\\llm_ops\\data_loader_rag\\myenv\\lib\\site-packages (from tqdm>4->openai<2.0.0,>=1.68.2->langchain-openai) (0.4.6)\n",
      "Note: you may need to restart the kernel to use updated packages.\n"
     ]
    }
   ],
   "source": [
    "%pip install langchain-openai"
   ]
  },
  {
   "cell_type": "code",
   "execution_count": 3,
   "metadata": {},
   "outputs": [],
   "source": [
    "# Configure the ChatOpenAI model to use OpenRouter\n",
    "from langchain_openai import ChatOpenAI\n",
    "\n",
    "chatModel = ChatOpenAI(\n",
    "    model=\"gpt-3.5-turbo\",\n",
    "    openai_api_key=openrouter_api_key,\n",
    "    openai_api_base=\"https://openrouter.ai/api/v1\",  # OpenRouter API endpoint\n",
    ")"
   ]
  },
  {
   "cell_type": "code",
   "execution_count": 4,
   "metadata": {},
   "outputs": [
    {
     "name": "stdout",
     "output_type": "stream",
     "text": [
      "I'm sorry, but I'm not familiar with \"jaggusuperhit.\" Could you please provide more context or specify what you would like to know about it?\n"
     ]
    }
   ],
   "source": [
    "# Test the model\n",
    "messages = [\n",
    "    (\"system\", \"You are a helpful assistant.\"),\n",
    "    (\"human\", \"Tell me about jaggusuperhit\"),\n",
    "]\n",
    "response = chatModel.invoke(messages)\n",
    "print(response.content)"
   ]
  },
  {
   "cell_type": "markdown",
   "metadata": {},
   "source": [
    "# Data Loader"
   ]
  },
  {
   "cell_type": "code",
   "execution_count": 5,
   "metadata": {},
   "outputs": [],
   "source": [
    "# Text Loader\n",
    "from langchain_community.document_loaders import TextLoader\n",
    "\n",
    "# Specify encoding (UTF-8 is most common for modern text files)\n",
    "loader = TextLoader(\"data/designing-fighter-jet.txt\", encoding='utf-8')\n",
    "loaded_data = loader.load()"
   ]
  },
  {
   "cell_type": "code",
   "execution_count": 6,
   "metadata": {},
   "outputs": [
    {
     "data": {
      "text/plain": [
       "[Document(metadata={'source': 'data/designing-fighter-jet.txt'}, page_content='In the context of building or designing a fighter jet, Artificial Intelligence (AI) and Python play significant roles, particularly in simulation, design automation, flight control systems, and testing. While constructing a military-grade fighter jet as an individual is impractical (as noted earlier), AI and Python are highly relevant for professional aerospace development, virtual jet design (e.g., in games or simulators), and hobbyist projects like drones or ultra-light aircraft. Below, I’ll detail the role of AI in fighter jet development, how Python supports these applications, and the specific programming knowledge needed to leverage Python for AI in this domain.\\n\\n Context of AI in Fighter Jet Development\\nAI enhances various aspects of fighter jet design, operation, and testing by enabling automation, optimization, and intelligent decision-making. Here’s how AI applies to the fighter jet context:\\n\\n1. Design and Simulation:\\n   - Aerodynamic Optimization: AI algorithms optimize airframe shapes for minimal drag, maximum lift, or stealth. Machine learning (ML) models predict airflow patterns faster than traditional computational fluid dynamics (CFD).\\n   - Digital Twins: AI creates virtual models of jets to simulate performance under various conditions (e.g., high-G maneuvers, extreme weather).\\n   - Generative Design: AI generates multiple airframe or component designs based on constraints like weight, strength, and cost.\\n\\n2. Flight Control Systems:\\n   - Autonomous Flight: AI enables semi-autonomous or fully autonomous flight, as seen in programs like the U.S. Air Force’s XQ-58A Valkyrie drone. Neural networks process sensor data for real-time navigation and stabilization.\\n   - Adaptive Control: AI adjusts flight parameters dynamically to handle damage or changing conditions (e.g., wing damage during combat).\\n   - Pilot Assistance: AI-powered systems provide real-time recommendations to pilots, such as optimal maneuvers or threat prioritization.\\n\\n3. Avionics and Mission Systems:\\n   - Target Recognition: AI processes radar, infrared, or camera data to identify and track targets, improving accuracy in complex environments (e.g., distinguishing decoys from real threats).\\n   - Electronic Warfare: AI detects and counters enemy radar or jamming signals, enhancing survivability.\\n   - Data Fusion: AI integrates data from multiple sensors (e.g., radar, LIDAR) for a unified battlefield picture.\\n\\n4. Testing and Maintenance:\\n   - Predictive Maintenance: AI analyzes sensor data to predict component failures (e.g., engine wear), reducing downtime.\\n   - Automated Testing: AI simulates thousands of flight scenarios to identify design flaws, cutting testing time.\\n   - Anomaly Detection: AI monitors systems during flight to flag irregularities, improving safety.\\n\\n5. Simulation and Training:\\n   - Virtual Simulators: AI powers realistic NPC behaviors in flight simulators (e.g., MS Flight Simulator, X-Plane) for pilot training.\\n   - Adversarial AI: AI simulates enemy tactics in training scenarios, preparing pilots for real-world combat.\\n\\n6. Hobbyist Applications:\\n   - Game Design: AI controls jet behavior in sandbox games like Trailmakers or Plane Crazy, making virtual jets responsive to physics.\\n   - Drones: AI enables autonomous navigation for hobbyist drones styled like fighter jets.\\n\\n\\n\\n Why Python for AI in Fighter Jet Development?\\nPython is the go-to language for AI due to its simplicity, extensive libraries, and community support. In the context of fighter jets, Python is used for prototyping, simulation, data analysis, and integrating AI into various systems. Here’s why Python excels:\\n\\n- Rich AI Ecosystem:\\n  - Libraries like TensorFlow, PyTorch, and Keras simplify building and training ML models for tasks like target recognition or flight control.\\n  - Scikit-learn provides tools for simpler ML tasks, such as regression for aerodynamic predictions.\\n  - OpenCV supports computer vision for target detection or HUD displays.\\n\\n- Scientific Computing:\\n  - NumPy and SciPy handle numerical computations, such as solving differential equations for flight dynamics.\\n  - Pandas manages large datasets from simulations or sensor logs.\\n  - Matplotlib and Seaborn visualize aerodynamic or performance data.\\n\\n- Simulation and CAD:\\n  - Python scripts automate workflows in CAD tools (e.g., Blender, CATIA) for airframe design.\\n  - Libraries like PyBullet or Gazebo simulate jet physics in virtual environments.\\n\\n- Prototyping and Integration:\\n  - Python’s readability allows rapid prototyping of AI algorithms before porting to C++ for real-time systems.\\n  - Frameworks like ROS (Robot Operating System) use Python for drone or autonomous flight control.\\n\\n- Accessibility: Python’s beginner-friendly syntax makes it ideal for hobbyists building jets in games or drones, while its power supports professional aerospace applications.\\n\\n\\n\\n Specific AI Applications and Python Knowledge Needed\\nBelow, I outline key AI applications in fighter jet development, the Python skills required, and example tasks. I’ve included professional, simulation, and hobbyist contexts to cover your potential interests.\\n\\n 1. Aerodynamic Optimization (Professional/Simulation)\\n- AI Role: Use ML to optimize wing shapes or predict drag, reducing reliance on slow CFD simulations.\\n- Example Task: Train a neural network to predict lift coefficients based on wing geometry.\\n- Python Knowledge:\\n  - Libraries: TensorFlow or PyTorch for neural networks; NumPy for matrix operations; Pandas for data handling.\\n  - Skills:\\n    - Regression models to predict aerodynamic properties.\\n    - Data preprocessing (e.g., normalizing CFD datasets).\\n    - Hyperparameter tuning for model accuracy.\\n  - Tools: Matplotlib for visualizing airflow patterns; Jupyter Notebook for experimentation.\\n- Sample Code (Simplified neural network for lift prediction):\\n  ```python\\n  import tensorflow as tf\\n  import numpy as np\\n  from sklearn.model_selection import train_test_split\\n\\n   Simulated data: wing angle, airspeed -> lift coefficient\\n  X = np.random.rand(1000, 2)   Features: [angle, airspeed]\\n  y = 0.5  X[:, 0] + 0.3  X[:, 1] + np.random.randn(1000)  0.01   Lift\\n\\n   Split data\\n  X_train, X_test, y_train, y_test = train_test_split(X, y, test_size=0.2)\\n\\n   Build model\\n  model = tf.keras.Sequential([\\n      tf.keras.layers.Dense(10, activation=\\'relu\\', input_shape=(2,)),\\n      tf.keras.layers.Dense(1)\\n  ])\\n  model.compile(optimizer=\\'adam\\', loss=\\'mse\\')\\n\\n   Train\\n  model.fit(X_train, y_train, epochs=50, verbose=0)\\n\\n   Predict\\n  predictions = model.predict(X_test)\\n  print(\"Sample predictions:\", predictions[:5])\\n  ```\\n\\n 2. Autonomous Flight Control (Professional/Drones)\\n- AI Role: Enable jets or drones to navigate autonomously using reinforcement learning (RL) or neural networks.\\n- Example Task: Train a drone to follow waypoints using RL.\\n- Python Knowledge:\\n  - Libraries: Stable-Baselines3 or RLlib for RL; PyTorch for deep learning; ROS (rospy) for drone control.\\n  - Skills:\\n    - RL algorithms (e.g., DQN, PPO) for decision-making.\\n    - Sensor data processing (e.g., GPS, IMU) with NumPy.\\n    - Real-time control with Python’s threading or asyncio.\\n  - Tools: Gazebo or AirSim for simulation; MAVLink for drone communication.\\n- Sample Code (Simplified RL setup for drone navigation):\\n  ```python\\n  import gym\\n  from stable_baselines3 import PPO\\n\\n   Simulated drone environment (custom or use AirSim)\\n  env = gym.make(\\'CartPole-v1\\')   Placeholder for drone env\\n\\n   Train RL model\\n  model = PPO(\\'MlpPolicy\\', env, verbose=1)\\n  model.learn(total_timesteps=10000)\\n\\n   Test model\\n  obs = env.reset()\\n  for _ in range(100):\\n      action, _ = model.predict(obs)\\n      obs, reward, done, info = env.step(action)\\n      if done:\\n          obs = env.reset()\\n  ```\\n\\n 3. Target Recognition (Professional/Simulation)\\n- AI Role: Use computer vision to identify targets from radar or camera feeds.\\n- Example Task: Detect enemy aircraft in a flight simulator using a convolutional neural network (CNN).\\n- Python Knowledge:\\n  - Libraries: OpenCV for image processing; TensorFlow/Keras for CNNs; Pillow for image manipulation.\\n  - Skills:\\n    - Image preprocessing (e.g., resizing, normalization).\\n    - CNN architectures (e.g., ResNet, YOLO) for object detection.\\n    - Transfer learning to use pre-trained models.\\n  - Tools: Datasets like ImageNet or custom simulator feeds; Matplotlib for visualization.\\n- Sample Code (Simplified CNN for aircraft detection):\\n  ```python\\n  import tensorflow as tf\\n  from tensorflow.keras import layers, models\\n\\n   Simulated image data (e.g., 64x64 grayscale images)\\n  X_train = np.random.rand(1000, 64, 64, 1)\\n  y_train = np.random.randint(0, 2, 1000)   0: no aircraft, 1: aircraft\\n\\n   Build CNN\\n  model = models.Sequential([\\n      layers.Conv2D(32, (3, 3), activation=\\'relu\\', input_shape=(64, 64, 1)),\\n      layers.MaxPooling2D((2, 2)),\\n      layers.Flatten(),\\n      layers.Dense(64, activation=\\'relu\\'),\\n      layers.Dense(1, activation=\\'sigmoid\\')\\n  ])\\n  model.compile(optimizer=\\'adam\\', loss=\\'binary_crossentropy\\', metrics=[\\'accuracy\\'])\\n\\n   Train\\n  model.fit(X_train, y_train, epochs=10, batch_size=32)\\n  ```\\n\\n 4. CAD Automation (Professional/Hobbyist)\\n- AI Role: Automate airframe design or generate component variations.\\n- Example Task: Script Blender to create a parametric wing shape.\\n- Python Knowledge:\\n  - Libraries: bpy (Blender’s Python API); NumPy for geometry calculations.\\n  - Skills:\\n    - 3D geometry (e.g., Bézier curves for wing profiles).\\n    - API scripting for CAD tools.\\n    - Optimization algorithms (e.g., genetic algorithms for design exploration).\\n  - Tools: Blender, FreeCAD, or CATIA with Python plugins.\\n- Sample Code (Create a simple wing in Blender):\\n  ```python\\n  import bpy\\n  import numpy as np\\n\\n   Clear existing objects\\n  bpy.ops.object.select_all(action=\\'SELECT\\')\\n  bpy.ops.object.delete()\\n\\n   Create wing vertices (simplified)\\n  verts = [(0, 0, 0), (2, 0, 0), (1, 1, 0), (1, -1, 0)]\\n  edges = [(0, 1), (1, 2), (1, 3), (2, 3)]\\n  faces = [(0, 1, 2, 3)]\\n\\n   Create mesh\\n  mesh = bpy.data.meshes.new(\"Wing\")\\n  obj = bpy.data.objects.new(\"Wing\", mesh)\\n  bpy.context.collection.objects.link(obj)\\n  mesh.from_pydata(verts, edges, faces)\\n  ```\\n\\n 5. Game-Based Jet AI (Hobbyist)\\n- AI Role: Add intelligent behaviors to jets in games like Trailmakers or Plane Crazy.\\n- Example Task: Script a jet in Roblox to avoid obstacles.\\n- Python Knowledge:\\n  - Libraries: None directly (Lua is used in Roblox, but Python-like logic applies); PyGame for custom simulators.\\n  - Skills:\\n    - Pathfinding (e.g., A algorithm) for navigation.\\n    - State machines for jet behaviors (e.g., cruise, evade).\\n    - Physics calculations for thrust and drag.\\n  - Tools: Roblox Studio (Lua); PyGame for Python-based simulators.\\n- Sample Code (Simplified PyGame jet movement):\\n  ```python\\n  import pygame\\n  pygame.init()\\n\\n  screen = pygame.display.set_mode((800, 600))\\n  jet_pos = [400, 300]\\n  speed = 5\\n\\n  running = True\\n  while running:\\n      for event in pygame.event.get():\\n          if event.type == pygame.QUIT:\\n              running = False\\n\\n       Move jet with arrow keys\\n      keys = pygame.key.get_pressed()\\n      if keys[pygame.K_LEFT]:\\n          jet_pos[0] -= speed\\n      if keys[pygame.K_RIGHT]:\\n          jet_pos[0] += speed\\n\\n       Draw\\n      screen.fill((0, 0, 0))\\n      pygame.draw.rect(screen, (255, 0, 0), (jet_pos, 20, 10))\\n      pygame.display.flip()\\n\\n  pygame.quit()\\n  ```\\n\\n\\n\\n Python Learning Path for AI in Fighter Jet Context\\nTo effectively use Python for AI in fighter jet-related projects, follow this structured learning path:\\n\\n1. Beginner (0–3 months):\\n   - Core Python: Learn syntax, data structures (lists, dictionaries), and functions. Use resources like Automate the Boring Stuff with Python.\\n   - Libraries: Start with NumPy, Pandas, and Matplotlib for data handling and visualization.\\n   - AI Basics: Explore Scikit-learn for simple ML (e.g., linear regression). Try small projects like predicting lift from wing angles.\\n   - Resources: Codecademy’s Python course, Coursera’s “Python for Everybody.”\\n\\n2. Intermediate (3–6 months):\\n   - AI Frameworks: Learn TensorFlow or PyTorch for neural networks. Build a simple CNN for image classification (e.g., aircraft detection).\\n   - Simulation: Use PyBullet or Gazebo to simulate jet physics. Script basic flight dynamics.\\n   - CAD Scripting: Experiment with Blender’s bpy to automate 3D designs.\\n   - Resources: Fast.ai’s “Practical Deep Learning,” Udemy’s “Python for Data Science and Machine Learning.”\\n\\n3. Advanced (6+ months):\\n   - Reinforcement Learning: Use Stable-Baselines3 for autonomous flight control. Train a drone to navigate obstacles.\\n   - Real-Time Systems: Integrate Python with ROS for drone control. Learn C++ for performance-critical tasks, as Python is often too slow for real-time avionics.\\n   - Aerospace Projects: Contribute to open-source projects like ArduPilot or build a custom simulator with PyGame/AirSim.\\n   - Resources: DeepLearning.AI’s “Deep Learning Specialization,” ArduPilot documentation.\\n\\n\\n\\n Practical Next Steps\\n- Hobbyist Focus (e.g., Plane Crazy, drones):\\n  - Start with PyGame for a simple jet simulator or Blender for 3D modeling.\\n  - Build a small drone with ArduPilot and Python for telemetry.\\n  - Join r/PlaneCrazyCommunity for Lua tips (Python logic translates well).\\n- Simulation Focus (e.g., MS Flight Simulator):\\n  - Use Python with AirSim to simulate jet flight.\\n  - Learn JavaScript for MS Flight Simulator’s SDK, but prototype AI in Python.\\n- Professional Aspiration:\\n  - Focus on TensorFlow/PyTorch for AI and MATLAB/Simulink for integration.\\n  - Study aerospace standards (e.g., DO-178C) and C++ for real-world applications.\\n\\n\\n\\n Additional Notes\\n- Limitations: Python is excellent for prototyping and simulation but too slow for real-time flight control in professional jets, where C++ or Ada dominate. Use Python for ground-based systems or hobbyist projects.\\n- Resources: Check GitHub for open-source aerospace projects (e.g., JSBSim for flight dynamics). Search X or web for recent AI-in-aerospace tutorials if needed.\\n- Sample Project: Build a PyGame simulator where an AI-controlled jet avoids obstacles, combining physics and RL.\\n\\n\\n')]"
      ]
     },
     "execution_count": 6,
     "metadata": {},
     "output_type": "execute_result"
    }
   ],
   "source": [
    "loaded_data"
   ]
  },
  {
   "cell_type": "code",
   "execution_count": 7,
   "metadata": {},
   "outputs": [],
   "source": [
    "# CSV loader\n",
    "\n",
    "from langchain_community.document_loaders import CSVLoader\n",
    "\n",
    "loader = CSVLoader('data\\Fighter_Jet_AI_Python_Applications.csv')\n",
    "\n",
    "loaded_data = loader.load()\n"
   ]
  },
  {
   "cell_type": "code",
   "execution_count": 8,
   "metadata": {},
   "outputs": [
    {
     "data": {
      "text/plain": [
       "[Document(metadata={'source': 'data\\\\Fighter_Jet_AI_Python_Applications.csv', 'row': 0}, page_content='Application: Aerodynamic_Optimization\\nAI_Role: Optimize airframe shapes for drag, lift, or stealth\\nPython_Libraries: TensorFlow, PyTorch, NumPy, Pandas, Matplotlib\\nRequired_Skills: Regression models, data preprocessing, hyperparameter tuning\\nExample_Task: Train a neural network to predict lift coefficients based on wing geometry'),\n",
       " Document(metadata={'source': 'data\\\\Fighter_Jet_AI_Python_Applications.csv', 'row': 1}, page_content='Application: Autonomous_Flight_Control\\nAI_Role: Enable semi-autonomous or fully autonomous flight\\nPython_Libraries: Stable-Baselines3, RLlib, PyTorch, rospy, NumPy\\nRequired_Skills: Reinforcement learning (DQN, PPO), sensor data processing, real-time control\\nExample_Task: Train a drone to follow waypoints using reinforcement learning'),\n",
       " Document(metadata={'source': 'data\\\\Fighter_Jet_AI_Python_Applications.csv', 'row': 2}, page_content='Application: Target_Recognition\\nAI_Role: Identify targets from radar or camera feeds\\nPython_Libraries: OpenCV, TensorFlow, Keras, Pillow\\nRequired_Skills: Image preprocessing, CNN architectures (ResNet, YOLO), transfer learning\\nExample_Task: Detect enemy aircraft in a simulator using a convolutional neural network'),\n",
       " Document(metadata={'source': 'data\\\\Fighter_Jet_AI_Python_Applications.csv', 'row': 3}, page_content='Application: CAD_Automation\\nAI_Role: Automate airframe or component design\\nPython_Libraries: bpy (Blender), NumPy\\nRequired_Skills: 3D geometry (BÃ©zier curves), API scripting, optimization algorithms\\nExample_Task: Script Blender to create a parametric wing shape'),\n",
       " Document(metadata={'source': 'data\\\\Fighter_Jet_AI_Python_Applications.csv', 'row': 4}, page_content='Application: Game_Based_Jet_AI\\nAI_Role: Add intelligent behaviors to virtual jets\\nPython_Libraries: PyGame (for custom simulators), NumPy\\nRequired_Skills: Pathfinding (A* algorithm), state machines, physics calculations\\nExample_Task: Script a jet in PyGame to avoid obstacles')]"
      ]
     },
     "execution_count": 8,
     "metadata": {},
     "output_type": "execute_result"
    }
   ],
   "source": [
    "loaded_data"
   ]
  },
  {
   "cell_type": "code",
   "execution_count": 9,
   "metadata": {},
   "outputs": [],
   "source": [
    "from langchain_community.document_loaders import UnstructuredHTMLLoader\n",
    "\n",
    "loader = UnstructuredHTMLLoader('data\\Fighter_Jet_AI_Python_Applications.html')\n",
    "\n",
    "loaded_data = loader.load()"
   ]
  },
  {
   "cell_type": "code",
   "execution_count": 10,
   "metadata": {},
   "outputs": [
    {
     "data": {
      "text/plain": [
       "[Document(metadata={'source': 'data\\\\Fighter_Jet_AI_Python_Applications.html'}, page_content='AI and Python in Fighter Jet Development\\n\\nThis table outlines key applications of Artificial Intelligence (AI) in fighter jet development, focusing on how Python supports these tasks. It covers professional aerospace, simulation, and hobbyist contexts, detailing AI roles, Python libraries, required skills, and example tasks.\\n\\nApplication AI Role Python Libraries Required Skills Example Task Aerodynamic Optimization Optimize airframe shapes for drag, lift, or stealth TensorFlow, PyTorch, NumPy, Pandas, Matplotlib Regression models, data preprocessing, hyperparameter tuning Train a neural network to predict lift coefficients based on wing geometry Autonomous Flight Control Enable semi-autonomous or fully autonomous flight Stable-Baselines3, RLlib, PyTorch, rospy, NumPy Reinforcement learning (DQN, PPO), sensor data processing, real-time control Train a drone to follow waypoints using reinforcement learning Target Recognition Identify targets from radar or camera feeds OpenCV, TensorFlow, Keras, Pillow Image preprocessing, CNN architectures (ResNet, YOLO), transfer learning Detect enemy aircraft in a simulator using a convolutional neural network CAD Automation Automate airframe or component design bpy (Blender), NumPy 3D geometry (Bézier curves), API scripting, optimization algorithms Script Blender to create a parametric wing shape Game-Based Jet AI Add intelligent behaviors to virtual jets PyGame (for custom simulators), NumPy Pathfinding (A* algorithm), state machines, physics calculations Script a jet in PyGame to avoid obstacles')]"
      ]
     },
     "execution_count": 10,
     "metadata": {},
     "output_type": "execute_result"
    }
   ],
   "source": [
    "loaded_data"
   ]
  },
  {
   "cell_type": "code",
   "execution_count": 11,
   "metadata": {},
   "outputs": [],
   "source": [
    "# Pdf data\n",
    "\n",
    "from langchain_community.document_loaders import PyPDFLoader\n",
    "\n",
    "loader = PyPDFLoader('data\\Fighter_jets.pdf')\n",
    "\n",
    "loaded_data = loader.load_and_split()"
   ]
  },
  {
   "cell_type": "code",
   "execution_count": 12,
   "metadata": {},
   "outputs": [
    {
     "data": {
      "text/plain": [
       "[Document(metadata={'producer': 'xdvipdfmx (20220710)', 'creator': 'LaTeX with hyperref', 'creationdate': '2025-05-18T12:53:39+00:00', 'source': 'data\\\\Fighter_jets.pdf', 'total_pages': 4, 'page': 0, 'page_label': '1'}, page_content='Building a Fighter Jet: From Scratch to Final Product\\nGrok 3, xAI\\nMay 18, 2025\\nContents\\n1 Introduction . . . . . . . . . . . . . . . . . . . . . . . . . . . . . . . . . . . . . . . . . . 1\\n2 Overview of Fighter Jet Development . . . . . . . . . . . . . . . . . . . . . . . . . . . . 1\\n3 Challenges and Realistic Scope . . . . . . . . . . . . . . . . . . . . . . . . . . . . . . . 2\\n4 Detailed Development Process . . . . . . . . . . . . . . . . . . . . . . . . . . . . . . . 2\\n4.1 Conceptual Design . . . . . . . . . . . . . . . . . . . . . . . . . . . . . . . . . . . . 2\\n4.2 Engineering and Systems Integration . . . . . . . . . . . . . . . . . . . . . . . . . . 2\\n4.2.1 Aerodynamics . . . . . . . . . . . . . . . . . . . . . . . . . . . . . . . . . . 2\\n4.2.2 Propulsion . . . . . . . . . . . . . . . . . . . . . . . . . . . . . . . . . . . . 2\\n4.2.3 Avionics . . . . . . . . . . . . . . . . . . . . . . . . . . . . . . . . . . . . . . 3\\n4.2.4 Flight Control Systems . . . . . . . . . . . . . . . . . . . . . . . . . . . . . . 3\\n4.3 Prototyping . . . . . . . . . . . . . . . . . . . . . . . . . . . . . . . . . . . . . . . . 3\\n4.4 Manufacturing . . . . . . . . . . . . . . . . . . . . . . . . . . . . . . . . . . . . . . . 3\\n4.5 Testing and Certiﬁcation . . . . . . . . . . . . . . . . . . . . . . . . . . . . . . . . . 3\\n4.6 Deployment . . . . . . . . . . . . . . . . . . . . . . . . . . . . . . . . . . . . . . . . 3\\n5 AI and Python Applications . . . . . . . . . . . . . . . . . . . . . . . . . . . . . . . . . 3\\n6 Hobbyist Alternatives . . . . . . . . . . . . . . . . . . . . . . . . . . . . . . . . . . . . . 4\\n7 Conclusion . . . . . . . . . . . . . . . . . . . . . . . . . . . . . . . . . . . . . . . . . . . 4\\n1 Introduction\\nBuilding a ﬁghter jet is a monumental task requiring advanced engineering, vast resources, and\\nstrict regulatory compliance. This document outlines the process from conceptual design to de-\\nployment, emphasizing the role of Artiﬁcial Intelligence (AI) and Python in modern aerospace de-\\nvelopment. While constructing a military-grade jet is infeasible for individuals, this guide includes\\nhobbyist alternatives like simulations and drones, providing a comprehensive view for enthusiasts\\nand professionals.\\n2 Overview of Fighter Jet Development\\nFighter jet development spans years and involves interdisciplinary teams. The process includes:\\n1. Conceptual Design: Deﬁne mission, performance, and initial sketches.\\n1'),\n",
       " Document(metadata={'producer': 'xdvipdfmx (20220710)', 'creator': 'LaTeX with hyperref', 'creationdate': '2025-05-18T12:53:39+00:00', 'source': 'data\\\\Fighter_jets.pdf', 'total_pages': 4, 'page': 1, 'page_label': '2'}, page_content='2. Engineering: Develop airframe, propulsion, avionics, and systems.\\n3. Prototyping: Build and test prototypes.\\n4. Manufacturing: Produce the ﬁnal jet.\\n5. Testing and Certiﬁcation : Validate performance and compliance.\\n6. Deployment: Deliver to military units.\\n3 Challenges and Realistic Scope\\nDeveloping a ﬁghter jet costs billions (e.g., F-35 program: $1.5 trillion) and requires expertise in\\naerodynamics, propulsion, and avionics. Key challenges include:\\n• Cost: Millions for prototypes, billions for production.\\n• Expertise: Teams of hundreds with specialized skills.\\n• Regulations: Strict military and aviation laws.\\n• Technology: Jet engines and weapons are tightly controlled.\\nFor individuals, realistic alternatives include building models, designing virtual jets in games (e.g.,\\nTrailmakers), or constructing ultra-light aircraft.\\n4 Detailed Development Process\\n4.1 Conceptual Design\\n• Objective: Deﬁne mission (e.g., air-to-air combat) and specs (speed: Mach 2+, range: 2000\\nkm).\\n• Tools: CAD software (CATIA, SolidWorks).\\n• AI Role: Generative design optimizes airframe shapes.\\n• Python Use: Script CAD workﬂows with Python APIs (e.g., CATIA automation).\\n4.2 Engineering and Systems Integration\\n4.2.1 Aerodynamics\\n• Design wings, fuselage, and tail for speed and stealth.\\n• AI: Machine learning predicts airﬂow, reducing CFD time.\\n• Python: NumPy, TensorFlow for aerodynamic simulations.\\n4.2.2 Propulsion\\n• Select turbofan engines (e.g., Pratt & Whitney F135).\\n• AI: Optimize fuel efﬁciency with predictive models.\\n• Python: SciPy for engine performance calculations.\\n2'),\n",
       " Document(metadata={'producer': 'xdvipdfmx (20220710)', 'creator': 'LaTeX with hyperref', 'creationdate': '2025-05-18T12:53:39+00:00', 'source': 'data\\\\Fighter_jets.pdf', 'total_pages': 4, 'page': 2, 'page_label': '3'}, page_content='4.2.3 Avionics\\n• Integrate radar, navigation, and weapons systems.\\n• AI: Target recognition via neural networks.\\n• Python: OpenCV, Keras for image processing.\\n4.2.4 Flight Control Systems\\n• Develop ﬂy-by-wire systems for stability.\\n• AI: Reinforcement learning for autonomous ﬂight.\\n• Python: Stable-Baselines3 for control algorithms.\\n4.3 Prototyping\\n• Build prototypes using 3D printing and CNC machining.\\n• AI: Simulate ﬂight scenarios to identify ﬂaws.\\n• Python: Matplotlib for visualizing test data.\\n4.4 Manufacturing\\n• Set up production lines with precision assembly.\\n• AI: Predictive maintenance for machinery.\\n• Python: Pandas for supply chain data analysis.\\n4.5 Testing and Certiﬁcation\\n• Conduct structural, ﬂight, and weapons tests.\\n• AI: Anomaly detection in sensor data.\\n• Python: Scikit-learn for test result analysis.\\n4.6 Deployment\\n• Deliver jets to military units with training.\\n• AI: Simulate combat scenarios for pilot training.\\n• Python: PyGame for basic training simulators.\\n5 AI and Python Applications\\nTable1 summarizes key AI applications in ﬁghter jet development, with Pythons role, libraries, skills,\\nand tasks.\\n3'),\n",
       " Document(metadata={'producer': 'xdvipdfmx (20220710)', 'creator': 'LaTeX with hyperref', 'creationdate': '2025-05-18T12:53:39+00:00', 'source': 'data\\\\Fighter_jets.pdf', 'total_pages': 4, 'page': 3, 'page_label': '4'}, page_content='Table 1: AI and Python in Fighter Jet Development\\nApplication AI Role Python Libraries Required Skills Example Task\\nAerodynamic\\nOptimization\\nOptimize airframe\\nshapes\\nTensorFlow,\\nNumPy, Matplotlib\\nRegression, data\\npreprocessing\\nPredict lift coefﬁ-\\ncients\\nAutonomous\\nFlight\\nEnable au-\\ntonomous ﬂight\\nStable-\\nBaselines3, Py-\\nTorch, rospy\\nReinforcement\\nlearning, sensor\\nprocessing\\nTrain drone for\\nwaypoints\\nTarget Recog-\\nnition\\nIdentify targets OpenCV, Keras,\\nPillow\\nCNN architec-\\ntures, transfer\\nlearning\\nDetect aircraft in\\nsimulator\\nCAD Automa-\\ntion\\nAutomate design bpy (Blender),\\nNumPy\\n3D geometry, API\\nscripting\\nScript parametric\\nwing\\nGame-Based\\nJet AI\\nAdd intelligent be-\\nhaviors\\nPyGame, NumPy Pathﬁnding,\\nphysics calcula-\\ntions\\nScript jet to avoid\\nobstacles\\n6 Hobbyist Alternatives\\nIndividuals can engage with ﬁghter jet development through:\\n• Models: Build kits (e.g., SU-30 MKI wooden kit).\\n• Simulations: Design jets in Trailmakers or Plane Crazy (Lua scripting).\\n• Drones: Program autonomous drones with ArduPilot (Python, C++).\\n• Ultra-Lights: Construct aircraft like SF-1 Archon, styled like jets.\\nPython supports hobbyist projects via PyGame (simulators), bpy (Blender designs), and ROS (drone\\ncontrol).\\n7 Conclusion\\nBuilding a ﬁghter jet is a complex, resource-intensive process reserved for aerospace giants. AI\\nand Python enhance design, control, and testing, with applications like aerodynamic optimization\\nand autonomous ﬂight. Hobbyists can explore models, simulations, or drones using Python, making\\naerospace accessible. For further exploration, study Python libraries (TensorFlow, OpenCV) and\\njoin communities like ArduPilot or Plane Crazy.\\n4')]"
      ]
     },
     "execution_count": 12,
     "metadata": {},
     "output_type": "execute_result"
    }
   ],
   "source": [
    "loaded_data"
   ]
  },
  {
   "cell_type": "code",
   "execution_count": 13,
   "metadata": {},
   "outputs": [
    {
     "data": {
      "text/plain": [
       "'Building a Fighter Jet: From Scratch to Final Product\\nGrok 3, xAI\\nMay 18, 2025\\nContents\\n1 Introduction . . . . . . . . . . . . . . . . . . . . . . . . . . . . . . . . . . . . . . . . . . 1\\n2 Overview of Fighter Jet Development . . . . . . . . . . . . . . . . . . . . . . . . . . . . 1\\n3 Challenges and Realistic Scope . . . . . . . . . . . . . . . . . . . . . . . . . . . . . . . 2\\n4 Detailed Development Process . . . . . . . . . . . . . . . . . . . . . . . . . . . . . . . 2\\n4.1 Conceptual Design . . . . . . . . . . . . . . . . . . . . . . . . . . . . . . . . . . . . 2\\n4.2 Engineering and Systems Integration . . . . . . . . . . . . . . . . . . . . . . . . . . 2\\n4.2.1 Aerodynamics . . . . . . . . . . . . . . . . . . . . . . . . . . . . . . . . . . 2\\n4.2.2 Propulsion . . . . . . . . . . . . . . . . . . . . . . . . . . . . . . . . . . . . 2\\n4.2.3 Avionics . . . . . . . . . . . . . . . . . . . . . . . . . . . . . . . . . . . . . . 3\\n4.2.4 Flight Control Systems . . . . . . . . . . . . . . . . . . . . . . . . . . . . . . 3\\n4.3 Prototyping . . . . . . . . . . . . . . . . . . . . . . . . . . . . . . . . . . . . . . . . 3\\n4.4 Manufacturing . . . . . . . . . . . . . . . . . . . . . . . . . . . . . . . . . . . . . . . 3\\n4.5 Testing and Certiﬁcation . . . . . . . . . . . . . . . . . . . . . . . . . . . . . . . . . 3\\n4.6 Deployment . . . . . . . . . . . . . . . . . . . . . . . . . . . . . . . . . . . . . . . . 3\\n5 AI and Python Applications . . . . . . . . . . . . . . . . . . . . . . . . . . . . . . . . . 3\\n6 Hobbyist Alternatives . . . . . . . . . . . . . . . . . . . . . . . . . . . . . . . . . . . . . 4\\n7 Conclusion . . . . . . . . . . . . . . . . . . . . . . . . . . . . . . . . . . . . . . . . . . . 4\\n1 Introduction\\nBuilding a ﬁghter jet is a monumental task requiring advanced engineering, vast resources, and\\nstrict regulatory compliance. This document outlines the process from conceptual design to de-\\nployment, emphasizing the role of Artiﬁcial Intelligence (AI) and Python in modern aerospace de-\\nvelopment. While constructing a military-grade jet is infeasible for individuals, this guide includes\\nhobbyist alternatives like simulations and drones, providing a comprehensive view for enthusiasts\\nand professionals.\\n2 Overview of Fighter Jet Development\\nFighter jet development spans years and involves interdisciplinary teams. The process includes:\\n1. Conceptual Design: Deﬁne mission, performance, and initial sketches.\\n1'"
      ]
     },
     "execution_count": 13,
     "metadata": {},
     "output_type": "execute_result"
    }
   ],
   "source": [
    "loaded_data[0].page_content"
   ]
  },
  {
   "cell_type": "code",
   "execution_count": 14,
   "metadata": {},
   "outputs": [],
   "source": [
    "# wikipedia data loader\n",
    "\n",
    "from langchain_community.document_loaders import WikipediaLoader\n",
    "\n",
    "loader = WikipediaLoader(query=\"Tesla\", load_max_docs=1)\n",
    "\n",
    "loaded_data = loader.load()[0].page_content"
   ]
  },
  {
   "cell_type": "code",
   "execution_count": 15,
   "metadata": {},
   "outputs": [
    {
     "data": {
      "text/plain": [
       "'Nikola Tesla (; Serbian Cyrillic: Никола Тесла [nǐkola têsla]; 10 July 1856 – 7 January 1943) was a Serbian-American engineer, futurist, and inventor. He is known for his contributions to the design of the modern alternating current (AC) electricity supply system.\\nBorn and raised in the Austrian Empire, Tesla first studied engineering and physics in the 1870s without receiving a degree. He then gained practical experience in the early 1880s working in telephony and at Continental Edison in the new electric power industry. In 1884 he immigrated to the United States, where he became a naturalized citizen. He worked for a short time at the Edison Machine Works in New York City before he struck out on his own. With the help of partners to finance and market his ideas, Tesla set up laboratories and companies in New York to develop a range of electrical and mechanical devices. His AC induction motor and related polyphase AC patents, licensed by Westinghouse Electric in 1888, earned him a considerable amount of money and became the cornerstone of the polyphase system which that company eventually marketed.\\nAttempting to develop inventions he could patent and market, Tesla conducted a range of experiments with mechanical oscillators/generators, electrical discharge tubes, and early X-ray imaging. He also built a wirelessly controlled boat, one of the first ever exhibited. Tesla became well known as an inventor and demonstrated his achievements to celebrities and wealthy patrons at his lab, and was noted for his showmanship at public lectures. Throughout the 1890s, Tesla pursued his ideas for wireless lighting and worldwide wireless electric power distribution in his high-voltage, high-frequency power experiments in New York and Colorado Springs. In 1893, he made pronouncements on the possibility of wireless communication with his devices. Tesla tried to put these ideas to practical use in his unfinished Wardenclyffe Tower project, an intercontinental wireless communication and power transmitter, but ran out of funding before he could complete it.\\nAfter Wardenclyffe, Tesla experimented with a series of inventions in the 1910s and 1920s with varying degrees of success. Having spent most of his money, Tesla lived in a series of New York hotels, leaving behind unpaid bills. He died in New York City in January 1943. Tesla\\'s work fell into relative obscurity following his death, until 1960, when the General Conference on Weights and Measures named the International System of Units (SI) measurement of magnetic flux density the tesla in his honor. There has been a resurgence in popular interest in Tesla since the 1990s.\\n\\n\\n== Early years ==\\n\\nNikola Tesla was born into an ethnic Serb family in the village of Smiljan, within the Military Frontier, in the Austrian Empire (present-day Croatia), on 10 July 1856. His father, Milutin Tesla (1819–1879), was a priest of the Eastern Orthodox Church. His father\\'s brother Josif was a lecturer at a military academy who wrote several textbooks on mathematics.\\nTesla\\'s mother, Georgina \"Đuka\" Mandić (1822–1892), whose father was also an Eastern Orthodox priest, had a talent for making home craft tools and mechanical appliances and the ability to memorize Serbian epic poems. Đuka had never received a formal education. Tesla credited his eidetic memory and creative abilities to his mother\\'s genetics and influence.\\nTesla was the fourth of five children. He had three sisters, Milka, Angelina, and Marica, and an older brother named Dane, who was killed in a horse-riding accident when Tesla was aged six or seven. In 1861, Tesla attended primary school in Smiljan where he studied German, arithmetic, and religion. In 1862, the Tesla family moved to the nearby town of Gospić, where Tesla\\'s father worked as parish priest. Nikola completed primary school, followed by middle school. In 1870, Tesla moved to Karlovac to attend high school at the Higher Real Gymnasium where the classes were held in German, as it was usual t'"
      ]
     },
     "execution_count": 15,
     "metadata": {},
     "output_type": "execute_result"
    }
   ],
   "source": [
    "loaded_data"
   ]
  },
  {
   "cell_type": "code",
   "execution_count": 16,
   "metadata": {},
   "outputs": [],
   "source": [
    "from langchain_core.prompts import ChatPromptTemplate\n",
    "\n",
    "chat_template = ChatPromptTemplate.from_messages(\n",
    "    [\n",
    "        (\"human\", \"Answer this {question}, here is some extra {context}\"),\n",
    "    ]\n",
    ")\n",
    "\n",
    "messages = chat_template.format_messages(\n",
    "    name=\"Tesla\",\n",
    "    question=\"Tell me about tesla\",\n",
    "    context=loaded_data\n",
    ")"
   ]
  },
  {
   "cell_type": "code",
   "execution_count": 17,
   "metadata": {},
   "outputs": [],
   "source": [
    "response = chatModel.invoke(messages)"
   ]
  },
  {
   "cell_type": "code",
   "execution_count": 18,
   "metadata": {},
   "outputs": [
    {
     "data": {
      "text/plain": [
       "\" Tesla did not receive a formal degree in engineering or physics, but he gained practical experience in telephony and the electric power industry. In 1884, he immigrated to the United States and became a naturalized citizen. He worked briefly at the Edison Machine Works before striking out on his own and setting up laboratories and companies to develop his inventions.\\n\\nTesla's most well-known contributions include the design of the modern alternating current electricity supply system and his AC induction motor. These inventions earned him a considerable amount of money and established the foundation for the polyphase system that Westinghouse Electric marketed.\\n\\nThroughout his career, Tesla conducted a range of experiments with mechanical oscillators, electrical discharge tubes, and X-ray imaging. He also demonstrated wireless power transmission and communication with his high-voltage, high-frequency power experiments in New York and Colorado Springs. Although his Wardenclyffe Tower project was never completed due to lack of funding, Tesla continued to work on various inventions until his death in 1943.\\n\\nAfter his death, Tesla's work fell into relative obscurity until a resurgence in popular interest in the 1990s. In 1960, the tesla, a unit of magnetic flux density, was named in his honor. Tesla's contributions to science, technology, and engineering have had a lasting impact and continue to inspire future generations of inventors and innovators.\""
      ]
     },
     "execution_count": 18,
     "metadata": {},
     "output_type": "execute_result"
    }
   ],
   "source": [
    "response.content"
   ]
  }
 ],
 "metadata": {
  "kernelspec": {
   "display_name": "myenv",
   "language": "python",
   "name": "python3"
  },
  "language_info": {
   "codemirror_mode": {
    "name": "ipython",
    "version": 3
   },
   "file_extension": ".py",
   "mimetype": "text/x-python",
   "name": "python",
   "nbconvert_exporter": "python",
   "pygments_lexer": "ipython3",
   "version": "3.10.9"
  }
 },
 "nbformat": 4,
 "nbformat_minor": 2
}
